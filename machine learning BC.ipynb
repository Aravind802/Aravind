{
 "cells": [
  {
   "cell_type": "code",
   "execution_count": 11,
   "id": "5fa7cd94-0918-4cee-a795-804aebdf37b1",
   "metadata": {},
   "outputs": [
    {
     "ename": "SyntaxError",
     "evalue": "invalid syntax (3462563280.py, line 2)",
     "output_type": "error",
     "traceback": [
      "\u001b[1;36m  Cell \u001b[1;32mIn[11], line 2\u001b[1;36m\u001b[0m\n\u001b[1;33m    block of code\u001b[0m\n\u001b[1;37m          ^\u001b[0m\n\u001b[1;31mSyntaxError\u001b[0m\u001b[1;31m:\u001b[0m invalid syntax\n"
     ]
    }
   ],
   "source": [
    "def functionname(parameter):\n",
    "    block of code\n",
    "    return output"
   ]
  },
  {
   "cell_type": "code",
   "execution_count": 7,
   "id": "ab4e7d9b-06dc-46a3-b5dd-8ece7e9f400c",
   "metadata": {},
   "outputs": [],
   "source": [
    "def calArea(r):\n",
    "    a=3.14*r*r\n",
    "    return a"
   ]
  },
  {
   "cell_type": "code",
   "execution_count": 13,
   "id": "6f845da3-3a5b-486f-a200-25216504ea27",
   "metadata": {},
   "outputs": [
    {
     "data": {
      "text/plain": [
       "<function len(obj, /)>"
      ]
     },
     "execution_count": 13,
     "metadata": {},
     "output_type": "execute_result"
    }
   ],
   "source": [
    "len"
   ]
  },
  {
   "cell_type": "code",
   "execution_count": 15,
   "id": "1e93712f-3e34-4919-8833-82f2ed6d8645",
   "metadata": {},
   "outputs": [
    {
     "data": {
      "text/plain": [
       "'Malla reddy 2025'"
      ]
     },
     "execution_count": 15,
     "metadata": {},
     "output_type": "execute_result"
    }
   ],
   "source": [
    "y='Malla reddy 2025'\n",
    "y"
   ]
  },
  {
   "cell_type": "code",
   "execution_count": 17,
   "id": "951e7a75-5dd2-4d23-b40f-1e12541d9258",
   "metadata": {},
   "outputs": [
    {
     "data": {
      "text/plain": [
       "16"
      ]
     },
     "execution_count": 17,
     "metadata": {},
     "output_type": "execute_result"
    }
   ],
   "source": [
    "len(y)"
   ]
  },
  {
   "cell_type": "code",
   "execution_count": 19,
   "id": "a66232e5-8ae6-42d9-9821-5596f1905d5e",
   "metadata": {},
   "outputs": [
    {
     "data": {
      "text/plain": [
       "2826.0"
      ]
     },
     "execution_count": 19,
     "metadata": {},
     "output_type": "execute_result"
    }
   ],
   "source": [
    "calArea(r=30)"
   ]
  },
  {
   "cell_type": "code",
   "execution_count": 23,
   "id": "ec927cb7-ef25-4229-8ba5-a2efb46aed09",
   "metadata": {},
   "outputs": [
    {
     "data": {
      "text/plain": [
       "2826.0"
      ]
     },
     "execution_count": 23,
     "metadata": {},
     "output_type": "execute_result"
    }
   ],
   "source": [
    "w=calArea(r=30)\n",
    "w"
   ]
  },
  {
   "cell_type": "code",
   "execution_count": 25,
   "id": "7b913445-530f-4cee-8b39-74fbc764078c",
   "metadata": {},
   "outputs": [
    {
     "data": {
      "text/plain": [
       "float"
      ]
     },
     "execution_count": 25,
     "metadata": {},
     "output_type": "execute_result"
    }
   ],
   "source": [
    "type(w)"
   ]
  },
  {
   "cell_type": "code",
   "execution_count": 27,
   "id": "a96ff6fa-23dc-462b-a0e9-971655b9645c",
   "metadata": {},
   "outputs": [
    {
     "data": {
      "text/plain": [
       "2836.0"
      ]
     },
     "execution_count": 27,
     "metadata": {},
     "output_type": "execute_result"
    }
   ],
   "source": [
    "w+10"
   ]
  },
  {
   "cell_type": "code",
   "execution_count": 33,
   "id": "8994406d-914d-4189-9c61-5a2ee4fbe45d",
   "metadata": {},
   "outputs": [
    {
     "name": "stdout",
     "output_type": "stream",
     "text": [
      "India\n"
     ]
    }
   ],
   "source": [
    "a=print('India')\n",
    "a"
   ]
  },
  {
   "cell_type": "raw",
   "id": "9466993f-ab41-4686-9100-d776bfc33cf9",
   "metadata": {},
   "source": [
    "a.lower()                                                                                       "
   ]
  },
  {
   "cell_type": "code",
   "execution_count": 43,
   "id": "3e9f907f-73f6-4115-9b89-1cb34eec6c80",
   "metadata": {},
   "outputs": [],
   "source": [
    "l=5"
   ]
  },
  {
   "cell_type": "code",
   "execution_count": 49,
   "id": "fc51ca14-fd66-4290-a57b-543cb19540e7",
   "metadata": {},
   "outputs": [],
   "source": [
    "def aor(l, w):\n",
    "    area=l*w\n",
    "    return area"
   ]
  },
  {
   "cell_type": "code",
   "execution_count": 51,
   "id": "c26a7f8a-2f7d-4f71-8660-68b568e78681",
   "metadata": {},
   "outputs": [
    {
     "data": {
      "text/plain": [
       "50"
      ]
     },
     "execution_count": 51,
     "metadata": {},
     "output_type": "execute_result"
    }
   ],
   "source": [
    "aor(5,10)"
   ]
  },
  {
   "cell_type": "code",
   "execution_count": 54,
   "id": "4efd690e-9f70-4b70-8a03-e21b1493107b",
   "metadata": {},
   "outputs": [
    {
     "data": {
      "text/plain": [
       "50"
      ]
     },
     "execution_count": 54,
     "metadata": {},
     "output_type": "execute_result"
    }
   ],
   "source": [
    "aor(l=10,w=5)"
   ]
  },
  {
   "cell_type": "code",
   "execution_count": 66,
   "id": "f5c30463-060d-4cdc-b4f1-7d0f9adaaca9",
   "metadata": {},
   "outputs": [],
   "source": [
    "def aor(r):\n",
    "    area=3.14*r*r\n",
    "    return area\n"
   ]
  },
  {
   "cell_type": "code",
   "execution_count": 68,
   "id": "7fc8124e-e541-4a27-9d86-5f2b850963e9",
   "metadata": {},
   "outputs": [
    {
     "data": {
      "text/plain": [
       "78.5"
      ]
     },
     "execution_count": 68,
     "metadata": {},
     "output_type": "execute_result"
    }
   ],
   "source": [
    "aor(r=5)"
   ]
  },
  {
   "cell_type": "code",
   "execution_count": 88,
   "id": "826255b1-d680-4a23-b5ba-f6bffb097ada",
   "metadata": {},
   "outputs": [],
   "source": [
    "def area(radius,length,width):\n",
    "    aoc=3.14*radius*radius\n",
    "    aor=length*width\n",
    "    return {'Area of circle':aoc,'Area of rectangle':aor}\n",
    "    "
   ]
  },
  {
   "cell_type": "code",
   "execution_count": 90,
   "id": "b04170c1-3fbd-4872-94d2-0b7fd1560e1a",
   "metadata": {},
   "outputs": [],
   "source": [
    "a=area(radius=5,length=6,width=7)\n"
   ]
  },
  {
   "cell_type": "code",
   "execution_count": 92,
   "id": "20300bc3-1c99-4e8d-b71e-e68bc893e2f7",
   "metadata": {},
   "outputs": [
    {
     "data": {
      "text/plain": [
       "78.5"
      ]
     },
     "execution_count": 92,
     "metadata": {},
     "output_type": "execute_result"
    }
   ],
   "source": [
    "a['Area of circle']"
   ]
  },
  {
   "cell_type": "code",
   "execution_count": 86,
   "id": "14bc41c5-f112-4277-a82a-fd0e17c33c0f",
   "metadata": {},
   "outputs": [
    {
     "data": {
      "text/plain": [
       "42"
      ]
     },
     "execution_count": 86,
     "metadata": {},
     "output_type": "execute_result"
    }
   ],
   "source": [
    "a['Area of rectangle']"
   ]
  },
  {
   "cell_type": "code",
   "execution_count": 96,
   "id": "8fe007e8-6fb5-467b-9034-1bb4d0145597",
   "metadata": {},
   "outputs": [
    {
     "data": {
      "text/plain": [
       "'Hyderabadddd 500008 Telangana'"
      ]
     },
     "execution_count": 96,
     "metadata": {},
     "output_type": "execute_result"
    }
   ],
   "source": [
    "t='Hyderabadddd 500008 Telangana'\n",
    "t"
   ]
  },
  {
   "cell_type": "code",
   "execution_count": 98,
   "id": "72e4dba6-8081-4345-8ac9-c8eb4cb5db9e",
   "metadata": {},
   "outputs": [
    {
     "data": {
      "text/plain": [
       "29"
      ]
     },
     "execution_count": 98,
     "metadata": {},
     "output_type": "execute_result"
    }
   ],
   "source": [
    "len(t)"
   ]
  },
  {
   "cell_type": "code",
   "execution_count": 108,
   "id": "32c56f8e-3777-40ec-a608-31498c2c8b38",
   "metadata": {},
   "outputs": [],
   "source": [
    "def countd(x):\n",
    "    d=x.lower()\n",
    "    return d.count('d')"
   ]
  },
  {
   "cell_type": "code",
   "execution_count": 110,
   "id": "4de77f8c-0681-4f59-ae84-d5344b85fbeb",
   "metadata": {},
   "outputs": [
    {
     "data": {
      "text/plain": [
       "5"
      ]
     },
     "execution_count": 110,
     "metadata": {},
     "output_type": "execute_result"
    }
   ],
   "source": [
    "countd(t)"
   ]
  },
  {
   "cell_type": "code",
   "execution_count": null,
   "id": "d1f33d39-b01a-45cd-8ca7-0bffe14579d9",
   "metadata": {},
   "outputs": [],
   "source": []
  }
 ],
 "metadata": {
  "kernelspec": {
   "display_name": "Python [conda env:base] *",
   "language": "python",
   "name": "conda-base-py"
  },
  "language_info": {
   "codemirror_mode": {
    "name": "ipython",
    "version": 3
   },
   "file_extension": ".py",
   "mimetype": "text/x-python",
   "name": "python",
   "nbconvert_exporter": "python",
   "pygments_lexer": "ipython3",
   "version": "3.12.7"
  }
 },
 "nbformat": 4,
 "nbformat_minor": 5
}
