{
 "cells": [
  {
   "cell_type": "code",
   "execution_count": 19,
   "id": "e57b1b2e-fd7a-4a7d-91dc-1b29eac37a52",
   "metadata": {},
   "outputs": [
    {
     "ename": "SyntaxError",
     "evalue": "invalid syntax (4123709995.py, line 1)",
     "output_type": "error",
     "traceback": [
      "\u001b[1;36m  Cell \u001b[1;32mIn[19], line 1\u001b[1;36m\u001b[0m\n\u001b[1;33m    list Tuple\u001b[0m\n\u001b[1;37m         ^\u001b[0m\n\u001b[1;31mSyntaxError\u001b[0m\u001b[1;31m:\u001b[0m invalid syntax\n"
     ]
    }
   ],
   "source": [
    "list Tuple\n"
   ]
  },
  {
   "cell_type": "code",
   "execution_count": 20,
   "id": "21d238c0-43ed-4719-8f13-d945bd160f83",
   "metadata": {},
   "outputs": [
    {
     "ename": "SyntaxError",
     "evalue": "invalid syntax (2935476202.py, line 1)",
     "output_type": "error",
     "traceback": [
      "\u001b[1;36m  Cell \u001b[1;32mIn[20], line 1\u001b[1;36m\u001b[0m\n\u001b[1;33m    list tuple\u001b[0m\n\u001b[1;37m         ^\u001b[0m\n\u001b[1;31mSyntaxError\u001b[0m\u001b[1;31m:\u001b[0m invalid syntax\n"
     ]
    }
   ],
   "source": [
    "list tuple"
   ]
  },
  {
   "cell_type": "code",
   "execution_count": 21,
   "id": "ae7d96c1-e9d9-47a8-8e41-47c1b220c2e5",
   "metadata": {},
   "outputs": [
    {
     "data": {
      "text/plain": [
       "[3, 5, 87, 87]"
      ]
     },
     "execution_count": 21,
     "metadata": {},
     "output_type": "execute_result"
    }
   ],
   "source": [
    "a = [3,5,87,87]\n",
    "a"
   ]
  },
  {
   "cell_type": "code",
   "execution_count": 22,
   "id": "ff7fb497-f1f2-4224-93c6-a8add10e661c",
   "metadata": {},
   "outputs": [
    {
     "data": {
      "text/plain": [
       "list"
      ]
     },
     "execution_count": 22,
     "metadata": {},
     "output_type": "execute_result"
    }
   ],
   "source": [
    "type(a)\n"
   ]
  },
  {
   "cell_type": "code",
   "execution_count": 23,
   "id": "11b1da0b-272d-42e9-b340-1615679ef6e6",
   "metadata": {},
   "outputs": [
    {
     "data": {
      "text/plain": [
       "['data', 'string', 'star']"
      ]
     },
     "execution_count": 23,
     "metadata": {},
     "output_type": "execute_result"
    }
   ],
   "source": [
    "b = [\"data\",\"string\",\"star\"]\n",
    "b"
   ]
  },
  {
   "cell_type": "code",
   "execution_count": 24,
   "id": "657600cb-6061-405f-99ab-652e3b79da60",
   "metadata": {},
   "outputs": [
    {
     "data": {
      "text/plain": [
       "list"
      ]
     },
     "execution_count": 24,
     "metadata": {},
     "output_type": "execute_result"
    }
   ],
   "source": [
    "type(b)\n"
   ]
  },
  {
   "cell_type": "code",
   "execution_count": 34,
   "id": "102c0383-9ae9-4963-9fa8-832fd1dd7167",
   "metadata": {},
   "outputs": [
    {
     "data": {
      "text/plain": [
       "[True,\n",
       " 'star',\n",
       " 'ravi',\n",
       " 'bday',\n",
       " 4,\n",
       " 5,\n",
       " 5,\n",
       " 3,\n",
       " 667,\n",
       " 445,\n",
       " 788,\n",
       " 3,\n",
       " 5,\n",
       " 6,\n",
       " 77,\n",
       " 56,\n",
       " 43,\n",
       " 32,\n",
       " 65,\n",
       " 64,\n",
       " 43,\n",
       " 76,\n",
       " 453,\n",
       " 232]"
      ]
     },
     "execution_count": 34,
     "metadata": {},
     "output_type": "execute_result"
    }
   ],
   "source": [
    "c=[True,\"star\",\"ravi\",\"bday\",4,5,5,3,667,445,788,3,5,6,77,56,43,32,65,64,43,76,453,232]\n",
    "c"
   ]
  },
  {
   "cell_type": "code",
   "execution_count": 35,
   "id": "70ac9760-3280-4663-b7cb-29f175d2c01d",
   "metadata": {},
   "outputs": [
    {
     "data": {
      "text/plain": [
       "list"
      ]
     },
     "execution_count": 35,
     "metadata": {},
     "output_type": "execute_result"
    }
   ],
   "source": [
    "type(c)"
   ]
  },
  {
   "cell_type": "code",
   "execution_count": 36,
   "id": "4162215f-57c0-48c2-8015-3d746686396a",
   "metadata": {},
   "outputs": [
    {
     "data": {
      "text/plain": [
       "[True, 5, 788, 56, 43]"
      ]
     },
     "execution_count": 36,
     "metadata": {},
     "output_type": "execute_result"
    }
   ],
   "source": [
    "c[0::5]\n"
   ]
  },
  {
   "cell_type": "code",
   "execution_count": 37,
   "id": "052cbf88-56ac-489e-a3bc-f9dd38552206",
   "metadata": {},
   "outputs": [
    {
     "data": {
      "text/plain": [
       "True"
      ]
     },
     "execution_count": 37,
     "metadata": {},
     "output_type": "execute_result"
    }
   ],
   "source": [
    "c[0]\n"
   ]
  },
  {
   "cell_type": "raw",
   "id": "861c3f1a-3cb8-4375-9a68-a74cfe0aff06",
   "metadata": {},
   "source": [
    "c[5]"
   ]
  },
  {
   "cell_type": "code",
   "execution_count": 38,
   "id": "3d7d22b9-027f-4093-816a-e2f2662d90d5",
   "metadata": {},
   "outputs": [
    {
     "data": {
      "text/plain": [
       "[True]"
      ]
     },
     "execution_count": 38,
     "metadata": {},
     "output_type": "execute_result"
    }
   ],
   "source": [
    "c[0:4:6]"
   ]
  },
  {
   "cell_type": "code",
   "execution_count": 39,
   "id": "646afecc-20e2-420e-a563-1ff20b87c001",
   "metadata": {},
   "outputs": [
    {
     "data": {
      "text/plain": [
       "76"
      ]
     },
     "execution_count": 39,
     "metadata": {},
     "output_type": "execute_result"
    }
   ],
   "source": [
    "c[-3]"
   ]
  },
  {
   "cell_type": "code",
   "execution_count": 40,
   "id": "6f140114-10df-48fb-bff0-82a81a9c3b75",
   "metadata": {},
   "outputs": [
    {
     "data": {
      "text/plain": [
       "[453]"
      ]
     },
     "execution_count": 40,
     "metadata": {},
     "output_type": "execute_result"
    }
   ],
   "source": [
    "c[-2:-5:-7]"
   ]
  },
  {
   "cell_type": "code",
   "execution_count": 43,
   "id": "85111ecf-d452-44f2-929c-ffbd965de3ec",
   "metadata": {},
   "outputs": [],
   "source": [
    "c.append(65577)\n"
   ]
  },
  {
   "cell_type": "code",
   "execution_count": 44,
   "id": "141df82d-5846-4e2a-a4b0-2f891b3c0e04",
   "metadata": {},
   "outputs": [
    {
     "data": {
      "text/plain": [
       "[True,\n",
       " 'star',\n",
       " 'ravi',\n",
       " 65577,\n",
       " 'bday',\n",
       " 4,\n",
       " 5,\n",
       " 5,\n",
       " 3,\n",
       " 667,\n",
       " 445,\n",
       " 788,\n",
       " 3,\n",
       " 5,\n",
       " 6,\n",
       " 77,\n",
       " 56,\n",
       " 43,\n",
       " 32,\n",
       " 65,\n",
       " 64,\n",
       " 43,\n",
       " 76,\n",
       " 453,\n",
       " 232,\n",
       " 65577,\n",
       " 65577]"
      ]
     },
     "execution_count": 44,
     "metadata": {},
     "output_type": "execute_result"
    }
   ],
   "source": [
    "c"
   ]
  },
  {
   "cell_type": "code",
   "execution_count": 45,
   "id": "02b8e36c-1085-422c-a08e-d1ece9b3d8f4",
   "metadata": {},
   "outputs": [],
   "source": [
    "c.insert(1,87)"
   ]
  },
  {
   "cell_type": "code",
   "execution_count": 46,
   "id": "af4b82c1-a4c9-4d0c-923b-23f8e609c67c",
   "metadata": {},
   "outputs": [
    {
     "data": {
      "text/plain": [
       "[True,\n",
       " 87,\n",
       " 'star',\n",
       " 'ravi',\n",
       " 65577,\n",
       " 'bday',\n",
       " 4,\n",
       " 5,\n",
       " 5,\n",
       " 3,\n",
       " 667,\n",
       " 445,\n",
       " 788,\n",
       " 3,\n",
       " 5,\n",
       " 6,\n",
       " 77,\n",
       " 56,\n",
       " 43,\n",
       " 32,\n",
       " 65,\n",
       " 64,\n",
       " 43,\n",
       " 76,\n",
       " 453,\n",
       " 232,\n",
       " 65577,\n",
       " 65577]"
      ]
     },
     "execution_count": 46,
     "metadata": {},
     "output_type": "execute_result"
    }
   ],
   "source": [
    "c"
   ]
  },
  {
   "cell_type": "code",
   "execution_count": 48,
   "id": "434ab92f-4f07-43f2-afc2-876541a20263",
   "metadata": {},
   "outputs": [],
   "source": [
    "c.remove(\"star\")"
   ]
  },
  {
   "cell_type": "code",
   "execution_count": 49,
   "id": "d58335c3-104e-4c85-a472-98e08547bd9b",
   "metadata": {},
   "outputs": [
    {
     "data": {
      "text/plain": [
       "[True,\n",
       " 87,\n",
       " 'ravi',\n",
       " 65577,\n",
       " 'bday',\n",
       " 4,\n",
       " 5,\n",
       " 5,\n",
       " 3,\n",
       " 667,\n",
       " 445,\n",
       " 788,\n",
       " 3,\n",
       " 5,\n",
       " 6,\n",
       " 77,\n",
       " 56,\n",
       " 43,\n",
       " 32,\n",
       " 65,\n",
       " 64,\n",
       " 43,\n",
       " 76,\n",
       " 453,\n",
       " 232,\n",
       " 65577,\n",
       " 65577]"
      ]
     },
     "execution_count": 49,
     "metadata": {},
     "output_type": "execute_result"
    }
   ],
   "source": [
    "c"
   ]
  },
  {
   "cell_type": "code",
   "execution_count": 51,
   "id": "aebb2354-1210-44fb-93f3-12a9fe3c4653",
   "metadata": {},
   "outputs": [
    {
     "data": {
      "text/plain": [
       "667"
      ]
     },
     "execution_count": 51,
     "metadata": {},
     "output_type": "execute_result"
    }
   ],
   "source": [
    "c.pop(9)"
   ]
  },
  {
   "cell_type": "code",
   "execution_count": 52,
   "id": "25a29556-4b91-457e-adcd-264e8fc47d26",
   "metadata": {},
   "outputs": [
    {
     "data": {
      "text/plain": [
       "[True,\n",
       " 87,\n",
       " 'ravi',\n",
       " 65577,\n",
       " 'bday',\n",
       " 4,\n",
       " 5,\n",
       " 5,\n",
       " 3,\n",
       " 445,\n",
       " 788,\n",
       " 3,\n",
       " 5,\n",
       " 6,\n",
       " 77,\n",
       " 56,\n",
       " 43,\n",
       " 32,\n",
       " 65,\n",
       " 64,\n",
       " 43,\n",
       " 76,\n",
       " 453,\n",
       " 232,\n",
       " 65577,\n",
       " 65577]"
      ]
     },
     "execution_count": 52,
     "metadata": {},
     "output_type": "execute_result"
    }
   ],
   "source": [
    "c"
   ]
  },
  {
   "cell_type": "code",
   "execution_count": 1,
   "id": "67cd4d8a-04b6-44cb-9f0d-a1115a3bf4db",
   "metadata": {},
   "outputs": [
    {
     "data": {
      "text/plain": [
       "[56, 74, 38, 83, 389, 73, 48, 9378, 89949, 9939988, 436, 80, 8947, 7663, 8739]"
      ]
     },
     "execution_count": 1,
     "metadata": {},
     "output_type": "execute_result"
    }
   ],
   "source": [
    "a = [ 56,74,38,83,389,73,48,9378,89949,9939988,436,80,8947,7663,8739]\n",
    "a"
   ]
  },
  {
   "cell_type": "code",
   "execution_count": 3,
   "id": "47cb1336-b298-42ad-af28-2e743be1f594",
   "metadata": {},
   "outputs": [
    {
     "data": {
      "text/plain": [
       "type"
      ]
     },
     "execution_count": 3,
     "metadata": {},
     "output_type": "execute_result"
    }
   ],
   "source": [
    "type"
   ]
  },
  {
   "cell_type": "code",
   "execution_count": 5,
   "id": "628dd496-4d3f-4bfb-ad71-f8e0425cc2c5",
   "metadata": {},
   "outputs": [
    {
     "data": {
      "text/plain": [
       "list"
      ]
     },
     "execution_count": 5,
     "metadata": {},
     "output_type": "execute_result"
    }
   ],
   "source": [
    "type(a)\n"
   ]
  },
  {
   "cell_type": "code",
   "execution_count": 7,
   "id": "7e20f4e5-cbdf-48bf-bf09-b11ad5dfe62f",
   "metadata": {},
   "outputs": [],
   "source": [
    "a.append(80)\n"
   ]
  },
  {
   "cell_type": "code",
   "execution_count": 9,
   "id": "94510394-30cd-451b-bac2-93fe00a12a9a",
   "metadata": {},
   "outputs": [
    {
     "data": {
      "text/plain": [
       "[56,\n",
       " 74,\n",
       " 38,\n",
       " 83,\n",
       " 389,\n",
       " 73,\n",
       " 48,\n",
       " 9378,\n",
       " 89949,\n",
       " 9939988,\n",
       " 436,\n",
       " 80,\n",
       " 8947,\n",
       " 7663,\n",
       " 8739,\n",
       " 80]"
      ]
     },
     "execution_count": 9,
     "metadata": {},
     "output_type": "execute_result"
    }
   ],
   "source": [
    "a\n"
   ]
  },
  {
   "cell_type": "code",
   "execution_count": 15,
   "id": "a23dbb97-0645-4879-b583-9a9bd4bc8672",
   "metadata": {},
   "outputs": [
    {
     "data": {
      "text/plain": [
       "83"
      ]
     },
     "execution_count": 15,
     "metadata": {},
     "output_type": "execute_result"
    }
   ],
   "source": [
    "a.pop(3)\n"
   ]
  },
  {
   "cell_type": "code",
   "execution_count": 17,
   "id": "42265b91-d1a5-4121-8cb4-a0df96e46357",
   "metadata": {},
   "outputs": [
    {
     "data": {
      "text/plain": [
       "[56, 74, 38, 389, 73, 48, 9378, 89949, 9939988, 436, 80, 8947, 7663, 8739, 80]"
      ]
     },
     "execution_count": 17,
     "metadata": {},
     "output_type": "execute_result"
    }
   ],
   "source": [
    "a"
   ]
  },
  {
   "cell_type": "code",
   "execution_count": 3,
   "id": "063e50e6-3b27-4f18-8d29-a7f5adc996f6",
   "metadata": {
    "scrolled": true
   },
   "outputs": [
    {
     "name": "stdout",
     "output_type": "stream",
     "text": [
      "yes\n",
      "yes\n"
     ]
    }
   ],
   "source": [
    "x=0\n",
    "while x<10:\n",
    "    print('yes')\n",
    "    x=x+6"
   ]
  },
  {
   "cell_type": "code",
   "execution_count": 1,
   "id": "cd40c20a-ca71-41ce-b60a-6641eee46391",
   "metadata": {},
   "outputs": [
    {
     "data": {
      "text/plain": [
       "[53, 78, 63, 84, 78, 93]"
      ]
     },
     "execution_count": 1,
     "metadata": {},
     "output_type": "execute_result"
    }
   ],
   "source": [
    "dollars = [53,78,63,84,78,93]\n",
    "dollars\n"
   ]
  },
  {
   "cell_type": "code",
   "execution_count": null,
   "id": "e9530364-0cfa-4351-bffa-4f9e5e1ff25c",
   "metadata": {},
   "outputs": [],
   "source": [
    "for i in dollars:\n",
    " print(i*85)"
   ]
  },
  {
   "cell_type": "code",
   "execution_count": null,
   "id": "b35eb4c3-adfe-4f83-8892-7c86db7bc939",
   "metadata": {},
   "outputs": [],
   "source": [
    "h = []\n",
    "for i in num:\n",
    "    a=str(i)\n",
    "    b=a.replace('9','1')\n",
    "    c=int(b)\n",
    "    h.append(c)"
   ]
  },
  {
   "cell_type": "code",
   "execution_count": null,
   "id": "06cec42b-2668-44fe-a07e-e7a1a994b395",
   "metadata": {},
   "outputs": [],
   "source": []
  },
  {
   "cell_type": "code",
   "execution_count": null,
   "id": "2d7d7fdd-c5fd-45ee-9637-7a342551f8ae",
   "metadata": {},
   "outputs": [],
   "source": []
  }
 ],
 "metadata": {
  "kernelspec": {
   "display_name": "Python [conda env:base] *",
   "language": "python",
   "name": "conda-base-py"
  },
  "language_info": {
   "codemirror_mode": {
    "name": "ipython",
    "version": 3
   },
   "file_extension": ".py",
   "mimetype": "text/x-python",
   "name": "python",
   "nbconvert_exporter": "python",
   "pygments_lexer": "ipython3",
   "version": "3.12.7"
  }
 },
 "nbformat": 4,
 "nbformat_minor": 5
}
