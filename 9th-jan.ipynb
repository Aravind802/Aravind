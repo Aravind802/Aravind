{
 "cells": [
  {
   "cell_type": "markdown",
   "id": "ecc8f075-48a5-420b-8ef2-816025f1e2be",
   "metadata": {},
   "source": [
    "if condition1:\n",
    "    task1 block of code\n",
    "elif condition2:\n",
    "    task2 block of code \n",
    "elif condition3:\n",
    "\n"
   ]
  },
  {
   "cell_type": "code",
   "execution_count": 1,
   "id": "37a36912-b553-43a7-921c-613e34e222e4",
   "metadata": {},
   "outputs": [
    {
     "name": "stdout",
     "output_type": "stream",
     "text": [
      "odd\n"
     ]
    }
   ],
   "source": [
    "x=9\n",
    "if x%2==0:\n",
    "    print(\"Even\")\n",
    "else:\n",
    "    print(\"odd\")"
   ]
  },
  {
   "cell_type": "code",
   "execution_count": 3,
   "id": "038e6588-bf40-4796-9dab-2628f11f2443",
   "metadata": {},
   "outputs": [
    {
     "data": {
      "text/plain": [
       "17"
      ]
     },
     "execution_count": 3,
     "metadata": {},
     "output_type": "execute_result"
    }
   ],
   "source": [
    "x+8"
   ]
  },
  {
   "cell_type": "code",
   "execution_count": 5,
   "id": "85ae0278-1750-444a-b322-095963ba9c67",
   "metadata": {},
   "outputs": [
    {
     "name": "stdout",
     "output_type": "stream",
     "text": [
      "neg\n"
     ]
    }
   ],
   "source": [
    "x=-5.8\n",
    "if x>0:\n",
    "    print('pos')\n",
    "elif x<0:\n",
    "    print('neg')\n",
    "else:\n",
    "    print('zero')"
   ]
  },
  {
   "cell_type": "code",
   "execution_count": 24,
   "id": "f0d86faf-d220-41d2-83d0-57c2d02cd4f0",
   "metadata": {},
   "outputs": [
    {
     "name": "stdout",
     "output_type": "stream",
     "text": [
      "pos\n",
      "k\n",
      "pos\n",
      "c\n"
     ]
    }
   ],
   "source": [
    "x = 6\n",
    "\n",
    "if x > 0:\n",
    "    print('pos')\n",
    "\n",
    "if x > 10:\n",
    "    print('m')\n",
    "elif x > 20:\n",
    "    print('p')\n",
    "elif x < 10:\n",
    "    print('k')\n",
    "else:\n",
    "    print('T')\n",
    "\n",
    "if x < 10:\n",
    "    print('pos')\n",
    "\n",
    "if x < -20:\n",
    "    print('Q') \n",
    "elif x > -10:\n",
    "    print('c')\n",
    "\n",
    "elif x > -300:\n",
    "    print('z')\n",
    "else:\n",
    "    print('Zero')"
   ]
  },
  {
   "cell_type": "code",
   "execution_count": null,
   "id": "7e67fc7c-a126-4b05-b209-7ef0a886991f",
   "metadata": {},
   "outputs": [],
   "source": []
  },
  {
   "cell_type": "code",
   "execution_count": 26,
   "id": "f59aa75b-9759-4f40-9e16-ac543959b475",
   "metadata": {},
   "outputs": [],
   "source": [
    "x='Telangana'\n",
    "x='Tiger'\n",
    "x='Tan'"
   ]
  },
  {
   "cell_type": "code",
   "execution_count": null,
   "id": "e10d579c-b22b-49c2-a33b-b0670709a205",
   "metadata": {},
   "outputs": [],
   "source": []
  }
 ],
 "metadata": {
  "kernelspec": {
   "display_name": "Python [conda env:base] *",
   "language": "python",
   "name": "conda-base-py"
  },
  "language_info": {
   "codemirror_mode": {
    "name": "ipython",
    "version": 3
   },
   "file_extension": ".py",
   "mimetype": "text/x-python",
   "name": "python",
   "nbconvert_exporter": "python",
   "pygments_lexer": "ipython3",
   "version": "3.12.7"
  }
 },
 "nbformat": 4,
 "nbformat_minor": 5
}
