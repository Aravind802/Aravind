{
 "cells": [
  {
   "cell_type": "code",
   "execution_count": 1,
   "id": "ebcc2311-7fdb-4ed5-a886-9bd63b1d4bca",
   "metadata": {},
   "outputs": [],
   "source": [
    "import numpy as np\n"
   ]
  },
  {
   "cell_type": "code",
   "execution_count": 3,
   "id": "311f1b1b-35af-4009-923f-7710cd54f786",
   "metadata": {},
   "outputs": [],
   "source": [
    "j =  [4,6,2,8,9]"
   ]
  },
  {
   "cell_type": "markdown",
   "id": "efd60f8c-70b3-4578-b823-bad5a7e2df8c",
   "metadata": {},
   "source": [
    "1) numpy                                    -array operations\n",
    "2) pandas                                   -Data manipulation and analysis\n",
    "3) matplotlib and Seaborn                   -Graphics Analysis\n",
    "4) sklearn                                  -Machine learning algorithms and techinques\n",
    "5) statsmodels                              -statistical analysis\n",
    "6)  scipy                                   -statistical analysis\n"
   ]
  },
  {
   "cell_type": "code",
   "execution_count": 6,
   "id": "ddd9243e-66fd-4e25-b229-fd200c4f3768",
   "metadata": {},
   "outputs": [
    {
     "data": {
      "text/plain": [
       "[3, 4, 4, 6, 7, 8, 8, 6]"
      ]
     },
     "execution_count": 6,
     "metadata": {},
     "output_type": "execute_result"
    }
   ],
   "source": [
    "j = [3,4,4,6,7,8,8,6]\n",
    "j"
   ]
  },
  {
   "cell_type": "code",
   "execution_count": 8,
   "id": "b6f9eef6-a750-4ff8-9c7b-b0e3a98b668d",
   "metadata": {},
   "outputs": [
    {
     "data": {
      "text/plain": [
       "array([3, 4, 4, 6, 7, 8, 8, 6])"
      ]
     },
     "execution_count": 8,
     "metadata": {},
     "output_type": "execute_result"
    }
   ],
   "source": [
    "d=np.array(j)\n",
    "d"
   ]
  },
  {
   "cell_type": "code",
   "execution_count": 10,
   "id": "2448523b-552b-4f5a-9bbc-482d91e5200f",
   "metadata": {},
   "outputs": [
    {
     "data": {
      "text/plain": [
       "numpy.ndarray"
      ]
     },
     "execution_count": 10,
     "metadata": {},
     "output_type": "execute_result"
    }
   ],
   "source": [
    "type(d)"
   ]
  },
  {
   "cell_type": "code",
   "execution_count": 12,
   "id": "314278ac-123f-488f-ad2a-2d552979ec64",
   "metadata": {},
   "outputs": [
    {
     "data": {
      "text/plain": [
       "list"
      ]
     },
     "execution_count": 12,
     "metadata": {},
     "output_type": "execute_result"
    }
   ],
   "source": [
    "type(j)"
   ]
  },
  {
   "cell_type": "code",
   "execution_count": 14,
   "id": "bcc78a6e-f30d-496c-9007-7f08fd54e161",
   "metadata": {},
   "outputs": [
    {
     "data": {
      "text/plain": [
       "(8,)"
      ]
     },
     "execution_count": 14,
     "metadata": {},
     "output_type": "execute_result"
    }
   ],
   "source": [
    "d.shape"
   ]
  },
  {
   "cell_type": "code",
   "execution_count": 16,
   "id": "ef0bd997-4bef-453e-8eee-58000807370c",
   "metadata": {},
   "outputs": [
    {
     "data": {
      "text/plain": [
       "1"
      ]
     },
     "execution_count": 16,
     "metadata": {},
     "output_type": "execute_result"
    }
   ],
   "source": [
    "d.ndim"
   ]
  },
  {
   "cell_type": "code",
   "execution_count": 18,
   "id": "062cd340-80bd-457a-a3c7-c6fc1a4e9769",
   "metadata": {},
   "outputs": [
    {
     "data": {
      "text/plain": [
       "8"
      ]
     },
     "execution_count": 18,
     "metadata": {},
     "output_type": "execute_result"
    }
   ],
   "source": [
    "d.size"
   ]
  },
  {
   "cell_type": "code",
   "execution_count": 20,
   "id": "2d42e0db-b168-44b2-b146-8eda3a3cee3d",
   "metadata": {},
   "outputs": [
    {
     "data": {
      "text/plain": [
       "(8,)"
      ]
     },
     "execution_count": 20,
     "metadata": {},
     "output_type": "execute_result"
    }
   ],
   "source": [
    "d.shape"
   ]
  },
  {
   "cell_type": "code",
   "execution_count": 44,
   "id": "61eba1fb-3d74-4f78-be11-2262cebd826d",
   "metadata": {},
   "outputs": [
    {
     "data": {
      "text/plain": [
       "array([[4, 5, 6, 8],\n",
       "       [3, 5, 2, 4],\n",
       "       [3, 4, 6, 8],\n",
       "       [9, 7, 5, 4],\n",
       "       [7, 5, 4, 3]])"
      ]
     },
     "execution_count": 44,
     "metadata": {},
     "output_type": "execute_result"
    }
   ],
   "source": [
    "s = np.array([[4,5,6,8],[3,5,2,4],[3,4,6,8],[9,7,5,4],[7,5,4,3]])\n",
    "s"
   ]
  },
  {
   "cell_type": "code",
   "execution_count": 46,
   "id": "7fae7a63-dfaa-45af-81bc-06525e140304",
   "metadata": {},
   "outputs": [
    {
     "data": {
      "text/plain": [
       "numpy.ndarray"
      ]
     },
     "execution_count": 46,
     "metadata": {},
     "output_type": "execute_result"
    }
   ],
   "source": [
    "type(s)"
   ]
  },
  {
   "cell_type": "code",
   "execution_count": 50,
   "id": "909f9ec8-5572-40e1-9300-77e5d1fc2edb",
   "metadata": {},
   "outputs": [
    {
     "data": {
      "text/plain": [
       "(5, 4)"
      ]
     },
     "execution_count": 50,
     "metadata": {},
     "output_type": "execute_result"
    }
   ],
   "source": [
    "s.shape\n"
   ]
  },
  {
   "cell_type": "code",
   "execution_count": 52,
   "id": "4ef104d4-dcc8-4018-b2c9-d1e679093a27",
   "metadata": {},
   "outputs": [
    {
     "data": {
      "text/plain": [
       "20"
      ]
     },
     "execution_count": 52,
     "metadata": {},
     "output_type": "execute_result"
    }
   ],
   "source": [
    "s.size"
   ]
  },
  {
   "cell_type": "code",
   "execution_count": 62,
   "id": "b3e7bbf1-0811-4669-8309-726de33d2599",
   "metadata": {},
   "outputs": [
    {
     "data": {
      "text/plain": [
       "2"
      ]
     },
     "execution_count": 62,
     "metadata": {},
     "output_type": "execute_result"
    }
   ],
   "source": [
    "s.ndim"
   ]
  },
  {
   "cell_type": "code",
   "execution_count": 68,
   "id": "e125db0f-11d4-45d8-b921-8628f25c891a",
   "metadata": {},
   "outputs": [
    {
     "data": {
      "text/plain": [
       "array([4, 6, 3, 7, 5, 0])"
      ]
     },
     "execution_count": 68,
     "metadata": {},
     "output_type": "execute_result"
    }
   ],
   "source": [
    "arr = np.array([4,6,3,7,5,0])\n",
    "arr"
   ]
  },
  {
   "cell_type": "code",
   "execution_count": 70,
   "id": "8a0be114-b56d-4a8e-954e-ef08b3d80230",
   "metadata": {},
   "outputs": [
    {
     "data": {
      "text/plain": [
       "array([[4, 6, 3],\n",
       "       [7, 5, 0]])"
      ]
     },
     "execution_count": 70,
     "metadata": {},
     "output_type": "execute_result"
    }
   ],
   "source": [
    "arr.reshape(2,3)"
   ]
  },
  {
   "cell_type": "code",
   "execution_count": 72,
   "id": "26fd7cc1-3da5-4d0a-9027-8432e0efa47b",
   "metadata": {},
   "outputs": [
    {
     "data": {
      "text/plain": [
       "1"
      ]
     },
     "execution_count": 72,
     "metadata": {},
     "output_type": "execute_result"
    }
   ],
   "source": [
    "arr.ndim\n"
   ]
  },
  {
   "cell_type": "code",
   "execution_count": 80,
   "id": "40142918-ff6b-4230-9722-7b5686b1c5ef",
   "metadata": {},
   "outputs": [],
   "source": [
    "b=s.reshape(2,2,5)"
   ]
  },
  {
   "cell_type": "code",
   "execution_count": 82,
   "id": "167e1e30-19b2-4eb7-b3ac-15c34cb62af7",
   "metadata": {},
   "outputs": [
    {
     "data": {
      "text/plain": [
       "array([[[4, 5, 6, 8, 3],\n",
       "        [5, 2, 4, 3, 4]],\n",
       "\n",
       "       [[6, 8, 9, 7, 5],\n",
       "        [4, 7, 5, 4, 3]]])"
      ]
     },
     "execution_count": 82,
     "metadata": {},
     "output_type": "execute_result"
    }
   ],
   "source": [
    "b"
   ]
  },
  {
   "cell_type": "code",
   "execution_count": 84,
   "id": "40823de7-17a3-45f5-85f8-ce3092d3a90b",
   "metadata": {},
   "outputs": [
    {
     "data": {
      "text/plain": [
       "20"
      ]
     },
     "execution_count": 84,
     "metadata": {},
     "output_type": "execute_result"
    }
   ],
   "source": [
    "b.size"
   ]
  },
  {
   "cell_type": "code",
   "execution_count": 98,
   "id": "58467102-f404-48f1-9f21-24b9166648e3",
   "metadata": {},
   "outputs": [
    {
     "data": {
      "text/plain": [
       "array([[4, 5],\n",
       "       [6, 8],\n",
       "       [3, 5],\n",
       "       [2, 4],\n",
       "       [3, 4],\n",
       "       [6, 8],\n",
       "       [9, 7],\n",
       "       [5, 4],\n",
       "       [7, 5],\n",
       "       [4, 3]])"
      ]
     },
     "execution_count": 98,
     "metadata": {},
     "output_type": "execute_result"
    }
   ],
   "source": [
    "b.reshape(10,2)\n"
   ]
  },
  {
   "cell_type": "raw",
   "id": "e3d0eede-eab9-4bb8-811b-407212c7b94c",
   "metadata": {},
   "source": [
    "b.ndim"
   ]
  },
  {
   "cell_type": "code",
   "execution_count": 100,
   "id": "b4c87320-7124-44a8-a0e2-bfa95098b535",
   "metadata": {},
   "outputs": [
    {
     "data": {
      "text/plain": [
       "3"
      ]
     },
     "execution_count": 100,
     "metadata": {},
     "output_type": "execute_result"
    }
   ],
   "source": [
    "b.ndim"
   ]
  },
  {
   "cell_type": "code",
   "execution_count": 102,
   "id": "5d397a4f-7827-463c-bbd4-af1f02b4d18b",
   "metadata": {},
   "outputs": [
    {
     "data": {
      "text/plain": [
       "[0, 100, 200, 300, 400, 500, 600, 700, 800, 900, 1000]"
      ]
     },
     "execution_count": 102,
     "metadata": {},
     "output_type": "execute_result"
    }
   ],
   "source": [
    "list(range(0,1001,100))\n"
   ]
  },
  {
   "cell_type": "code",
   "execution_count": 104,
   "id": "6034fa02-8177-4f15-92cf-104e05137beb",
   "metadata": {},
   "outputs": [
    {
     "data": {
      "text/plain": [
       "[-1000, -900, -800, -700, -600, -500, -400, -300, -200, -100, 0]"
      ]
     },
     "execution_count": 104,
     "metadata": {},
     "output_type": "execute_result"
    }
   ],
   "source": [
    "list(range(-1000,1,100))"
   ]
  },
  {
   "cell_type": "code",
   "execution_count": 106,
   "id": "4c51c9f5-34ea-44c2-b340-963035a7e387",
   "metadata": {},
   "outputs": [
    {
     "data": {
      "text/plain": [
       "range(5, 20)"
      ]
     },
     "execution_count": 106,
     "metadata": {},
     "output_type": "execute_result"
    }
   ],
   "source": [
    "range(5,20)"
   ]
  },
  {
   "cell_type": "code",
   "execution_count": 108,
   "id": "480944d3-496a-46ea-9751-ca7b2c6f7a48",
   "metadata": {},
   "outputs": [
    {
     "data": {
      "text/plain": [
       "[3, 4, 5, 6, 7]"
      ]
     },
     "execution_count": 108,
     "metadata": {},
     "output_type": "execute_result"
    }
   ],
   "source": [
    "m=[3,4,5,6,7]\n",
    "m"
   ]
  },
  {
   "cell_type": "code",
   "execution_count": 110,
   "id": "5c266472-6f4a-4c82-8784-495fc63f9d78",
   "metadata": {},
   "outputs": [
    {
     "data": {
      "text/plain": [
       "range(3, 101)"
      ]
     },
     "execution_count": 110,
     "metadata": {},
     "output_type": "execute_result"
    }
   ],
   "source": [
    "range(3,101)"
   ]
  },
  {
   "cell_type": "code",
   "execution_count": 112,
   "id": "74204b91-beab-4293-92c5-ad13afb216ac",
   "metadata": {},
   "outputs": [
    {
     "data": {
      "text/plain": [
       "[3, 5, 7, 9, 11]"
      ]
     },
     "execution_count": 112,
     "metadata": {},
     "output_type": "execute_result"
    }
   ],
   "source": [
    "list(range(3,13,2))"
   ]
  },
  {
   "cell_type": "code",
   "execution_count": 114,
   "id": "c6a720e4-6a59-441c-8b16-a686ffe29e4b",
   "metadata": {},
   "outputs": [
    {
     "data": {
      "text/plain": [
       "(3, 5, 7, 9, 11)"
      ]
     },
     "execution_count": 114,
     "metadata": {},
     "output_type": "execute_result"
    }
   ],
   "source": [
    "tuple(range(3,13,2))\n"
   ]
  },
  {
   "cell_type": "code",
   "execution_count": 116,
   "id": "599988d9-b194-4cb7-8105-9a5cfe58d3bf",
   "metadata": {},
   "outputs": [
    {
     "data": {
      "text/plain": [
       "[-1, -2, -3, -4, -5, -6, -7, -8, -9]"
      ]
     },
     "execution_count": 116,
     "metadata": {},
     "output_type": "execute_result"
    }
   ],
   "source": [
    "list(range(-1,-10,-1))"
   ]
  },
  {
   "cell_type": "code",
   "execution_count": 118,
   "id": "da50b1cd-6187-433f-ab22-262f5e055d94",
   "metadata": {},
   "outputs": [
    {
     "data": {
      "text/plain": [
       "[10, 8, 6, 4, 2, 0, -2, -4, -6, -8]"
      ]
     },
     "execution_count": 118,
     "metadata": {},
     "output_type": "execute_result"
    }
   ],
   "source": [
    "list(range(10,-10,-2))\n"
   ]
  },
  {
   "cell_type": "code",
   "execution_count": 122,
   "id": "bef67584-dca6-4bc1-85e6-9a636c9c41ba",
   "metadata": {},
   "outputs": [
    {
     "data": {
      "text/plain": [
       "array([2.5, 3. , 3.5, 4. , 4.5])"
      ]
     },
     "execution_count": 122,
     "metadata": {},
     "output_type": "execute_result"
    }
   ],
   "source": [
    "np.arange(2.5,5,0.5)"
   ]
  },
  {
   "cell_type": "code",
   "execution_count": 124,
   "id": "44192a9f-713e-470e-ba6a-48a571d0eb1a",
   "metadata": {},
   "outputs": [
    {
     "data": {
      "text/plain": [
       "range(5, 50, 5)"
      ]
     },
     "execution_count": 124,
     "metadata": {},
     "output_type": "execute_result"
    }
   ],
   "source": [
    "range(5,50,5)"
   ]
  },
  {
   "cell_type": "code",
   "execution_count": 126,
   "id": "35fc2128-acf1-48ae-93bb-f5ae583cb457",
   "metadata": {},
   "outputs": [
    {
     "name": "stdout",
     "output_type": "stream",
     "text": [
      "Data 5\n",
      "Data 10\n",
      "Data 15\n",
      "Data 20\n",
      "Data 25\n",
      "Data 30\n",
      "Data 35\n",
      "Data 40\n",
      "Data 45\n"
     ]
    }
   ],
   "source": [
    "for i in range(5,50,5):\n",
    "    print('Data',i)"
   ]
  },
  {
   "cell_type": "code",
   "execution_count": 134,
   "id": "4a9bc6e6-e761-43b7-a2af-576418363e13",
   "metadata": {},
   "outputs": [
    {
     "data": {
      "text/plain": [
       "[3, 40, 58, 35, 75, 94, 94, 9, 56, 84]"
      ]
     },
     "execution_count": 134,
     "metadata": {},
     "output_type": "execute_result"
    }
   ],
   "source": [
    "j = [3,40,58,35,75,94,94,9,56,84]\n",
    "j"
   ]
  },
  {
   "cell_type": "code",
   "execution_count": 138,
   "id": "29864138-5753-406c-b300-1ecc5ab83499",
   "metadata": {},
   "outputs": [
    {
     "data": {
      "text/plain": [
       "[3, 40, 58, 35, 75, 94, 94, 9, 56, 84]"
      ]
     },
     "execution_count": 138,
     "metadata": {},
     "output_type": "execute_result"
    }
   ],
   "source": [
    "j[0:11:1]"
   ]
  },
  {
   "cell_type": "code",
   "execution_count": 140,
   "id": "f21ee89a-904a-4b90-8eb4-c3ec6b83d19c",
   "metadata": {},
   "outputs": [
    {
     "data": {
      "text/plain": [
       "[3, 58, 75, 94, 56]"
      ]
     },
     "execution_count": 140,
     "metadata": {},
     "output_type": "execute_result"
    }
   ],
   "source": [
    "j[0:11:2]"
   ]
  },
  {
   "cell_type": "code",
   "execution_count": 142,
   "id": "3822b246-dd6a-4d02-b8e1-83081490aeee",
   "metadata": {},
   "outputs": [],
   "source": [
    "x=[]\n",
    "y=[]\n",
    "for i in range(len(j)):\n",
    "    if i %2==0:\n",
    "        x.append(j[i]\n"
   ]
  },
  {
   "cell_type": "code",
   "execution_count": null,
   "id": "abfd9fa6-c05f-40a8-8cef-2bbf587cd3ab",
   "metadata": {},
   "outputs": [],
   "source": []
  }
 ],
 "metadata": {
  "kernelspec": {
   "display_name": "Python [conda env:base] *",
   "language": "python",
   "name": "conda-base-py"
  },
  "language_info": {
   "codemirror_mode": {
    "name": "ipython",
    "version": 3
   },
   "file_extension": ".py",
   "mimetype": "text/x-python",
   "name": "python",
   "nbconvert_exporter": "python",
   "pygments_lexer": "ipython3",
   "version": "3.12.7"
  }
 },
 "nbformat": 4,
 "nbformat_minor": 5
}
